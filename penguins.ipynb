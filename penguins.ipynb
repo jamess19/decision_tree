{
 "cells": [
  {
   "cell_type": "markdown",
   "id": "7934135e",
   "metadata": {},
   "source": [
    "## 1. Load data"
   ]
  },
  {
   "cell_type": "code",
   "execution_count": null,
   "id": "030b1562",
   "metadata": {},
   "outputs": [],
   "source": [
    "from src.process import *\n",
    "\n",
    "data = load_data(DatasetDirectory.PENGUINS)"
   ]
  },
  {
   "cell_type": "markdown",
   "id": "3a710bb5",
   "metadata": {},
   "source": [
    "## 2. Prepare the datasets"
   ]
  },
  {
   "cell_type": "code",
   "execution_count": null,
   "id": "075e411b",
   "metadata": {},
   "outputs": [],
   "source": [
    "data_preprocessing(data, DatasetDirectory.PENGUINS)\n",
    "feature_train, label_train, feature_test, label_test = prepare_dataset(data, train_ratio=0.8, test_ratio=0.2)"
   ]
  },
  {
   "cell_type": "markdown",
   "id": "52e57c02",
   "metadata": {},
   "source": [
    "## 3. Build the decision tree classifier"
   ]
  },
  {
   "cell_type": "markdown",
   "id": "ce4e39c8",
   "metadata": {},
   "source": [
    "### 3.1 Build the model"
   ]
  },
  {
   "cell_type": "code",
   "execution_count": null,
   "id": "75ebc3ba",
   "metadata": {},
   "outputs": [],
   "source": [
    "from sklearn.tree import DecisionTreeClassifier\n",
    "\n",
    "clf = DecisionTreeClassifier(criterion=\"entropy\", random_state=42, max_depth=4)\n",
    "\n",
    "clf.fit(feature_train, label_train)\n",
    "\n",
    "label_pred = clf.predict(feature_test)\n",
    "print(\"Predicted labels:\", label_pred)\n",
    "print(\"Actual labels:\", label_test)"
   ]
  },
  {
   "cell_type": "markdown",
   "id": "4a982059",
   "metadata": {},
   "source": [
    "### 3.2 Visualize the dicision tree"
   ]
  },
  {
   "cell_type": "code",
   "execution_count": null,
   "id": "7667ba26",
   "metadata": {},
   "outputs": [],
   "source": [
    "# import graphviz\n",
    "# from sklearn import tree\n",
    "# import os\n",
    "# dot_data = tree.export_graphviz(clf, out_file=None,\n",
    "#                                  feature_names=[str(i) for i in range(feature_train.shape[1])],\n",
    "#                                     class_names=[str(i) for i in np.unique(label_train)],\n",
    "#                                     filled=True, rounded=True,\n",
    "#                                     special_characters=True)\n",
    "\n",
    "# graph = graphviz.Source(dot_data)\n",
    "# directory = os.getcwd()\n",
    "# graph.render(filename=os.path.join(directory, 'heart_disease_tree'), format='png', cleanup=True)\n",
    "# print(\"Decision tree visualization saved as 'heart_disease_tree.png'\")\n",
    "\n",
    "import matplotlib.pyplot as plt\n",
    "from sklearn.tree import plot_tree\n",
    "\n",
    "plt.figure(figsize=(20,10))\n",
    "plot_tree(clf, \n",
    "          feature_names=[str(i) for i in range(feature_train.shape[1])],\n",
    "          class_names=[str(i) for i in np.unique(label_train)],\n",
    "          filled=True, rounded=True)\n",
    "plt.show()"
   ]
  },
  {
   "cell_type": "markdown",
   "id": "6e8dbff5",
   "metadata": {},
   "source": [
    "## 4. Evaluate the decision tree classifier"
   ]
  },
  {
   "cell_type": "code",
   "execution_count": null,
   "id": "8c4fed3e",
   "metadata": {},
   "outputs": [],
   "source": [
    "from sklearn.metrics import accuracy_score, classification_report, confusion_matrix\n",
    "\n",
    "accuracy = accuracy_score(label_test, label_pred)\n",
    "print(f\"Accuracy: {accuracy:.2f}\")\n",
    "\n",
    "print(\"Classification Report:\")\n",
    "print(classification_report(label_test, label_pred))\n",
    "\n",
    "print(\"Confusion Matrix:\")\n",
    "print(confusion_matrix(label_test, label_pred))"
   ]
  }
 ],
 "metadata": {
  "kernelspec": {
   "display_name": "Python 3",
   "language": "python",
   "name": "python3"
  },
  "language_info": {
   "name": "python",
   "version": "3.13.2"
  }
 },
 "nbformat": 4,
 "nbformat_minor": 5
}
